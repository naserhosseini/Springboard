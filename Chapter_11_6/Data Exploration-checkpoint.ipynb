{
 "cells": [
  {
   "cell_type": "markdown",
   "id": "573ab1f9",
   "metadata": {},
   "source": [
    "# Chapter 11\n",
    "## Open-ended Capstone Step 4: Data Exploration\n",
    "\n",
    "\n",
    "### Question To Answer In This Step:\n",
    "1. Is the data homogenous in each column?\n",
    "2. How do you anticipate this data will be used by data analysts and scientist downstream?\n",
    "3. Does your answer to the last question give you an indication of how you can store the data for optimal querying speed and storage file compression?\n",
    "4. What cleaning steps do you need to perform to make your dataset ready for consumption?\n",
    "5. What wrangling steps do you need to perform to enrich your dataset with additional information?"
   ]
  },
  {
   "cell_type": "code",
   "execution_count": 1,
   "id": "3be64e89",
   "metadata": {},
   "outputs": [],
   "source": [
    "import mysql.connector\n",
    "EuroCup=mysql.connector.connect(host='localhost',user='root',passwd='Password',database='euro_cup_2016')\n",
    "mycursor=EuroCup.cursor()\n",
    "mycursor.execute('select * from match_mast')\n"
   ]
  },
  {
   "cell_type": "code",
   "execution_count": 3,
   "id": "d4d30923",
   "metadata": {},
   "outputs": [],
   "source": []
  },
  {
   "cell_type": "code",
   "execution_count": null,
   "id": "ed33619c",
   "metadata": {},
   "outputs": [],
   "source": []
  }
 ],
 "metadata": {
  "kernelspec": {
   "display_name": "Python 3 (ipykernel)",
   "language": "python",
   "name": "python3"
  },
  "language_info": {
   "codemirror_mode": {
    "name": "ipython",
    "version": 3
   },
   "file_extension": ".py",
   "mimetype": "text/x-python",
   "name": "python",
   "nbconvert_exporter": "python",
   "pygments_lexer": "ipython3",
   "version": "3.9.1"
  }
 },
 "nbformat": 4,
 "nbformat_minor": 5
}
